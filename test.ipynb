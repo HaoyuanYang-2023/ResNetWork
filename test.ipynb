{
 "cells": [
  {
   "cell_type": "code",
   "execution_count": 10,
   "metadata": {
    "collapsed": true,
    "pycharm": {
     "name": "#%%\n"
    }
   },
   "outputs": [
    {
     "name": "stdout",
     "output_type": "stream",
     "text": [
      "2\n",
      "torch.Size([2, 4])\n"
     ]
    },
    {
     "data": {
      "text/plain": "tensor([[1, 2, 3, 4],\n        [5, 6, 7, 8]])"
     },
     "execution_count": 10,
     "metadata": {},
     "output_type": "execute_result"
    }
   ],
   "source": [
    "import torch\n",
    "t = torch.tensor([[[1, 2],\n",
    "                   [3, 4]],\n",
    "                  [[5, 6],\n",
    "                   [7, 8]]])\n",
    "print(t.size())\n",
    "print(t.view(t.size(0),-1).shape)\n",
    "t.view(t.size(0),-1)"
   ]
  },
  {
   "cell_type": "code",
   "execution_count": 7,
   "outputs": [],
   "source": [
    "from torch.utils.tensorboard import  SummaryWriter\n",
    "logger = SummaryWriter(\"log/test\")\n",
    "logger.add_text(\"Best Acc\", str(12), global_step=0)"
   ],
   "metadata": {
    "collapsed": false,
    "pycharm": {
     "name": "#%%\n"
    }
   }
  },
  {
   "cell_type": "code",
   "execution_count": 6,
   "outputs": [
    {
     "data": {
      "text/plain": "6.830001831054673"
     },
     "execution_count": 6,
     "metadata": {},
     "output_type": "execute_result"
    }
   ],
   "source": [
    "import numpy as np\n",
    "import pandas as pd\n",
    "test_acc = pd.read_csv('exp1_test_acc.csv')\n",
    "best_error = 100 - test_acc['Value'].max()\n",
    "best_error"
   ],
   "metadata": {
    "collapsed": false,
    "pycharm": {
     "name": "#%%\n"
    }
   }
  },
  {
   "cell_type": "code",
   "execution_count": 2,
   "outputs": [
    {
     "name": "stdout",
     "output_type": "stream",
     "text": [
      "torch.Size([128, 16, 36, 36])\n",
      "Layer1: torch.Size([128, 16, 36, 36])\n",
      "Layer2: torch.Size([128, 32, 18, 18])\n",
      "Layer3: torch.Size([128, 64, 9, 9])\n",
      "FC: torch.Size([128, 64])\n",
      "torch.Size([128, 16, 36, 36])\n",
      "Layer1: torch.Size([128, 16, 36, 36])\n",
      "Layer2: torch.Size([128, 32, 18, 18])\n",
      "Layer3: torch.Size([128, 64, 9, 9])\n",
      "FC: torch.Size([128, 64])\n",
      "torch.Size([128, 16, 36, 36])\n",
      "Layer1: torch.Size([128, 16, 36, 36])\n",
      "Layer2: torch.Size([128, 32, 18, 18])\n",
      "Layer3: torch.Size([128, 64, 9, 9])\n",
      "FC: torch.Size([128, 64])\n"
     ]
    },
    {
     "data": {
      "text/plain": "'torch.save(model.state_dict(), \"test.pth\")\\nx = torch.randn(128, 3, 36, 36).cuda()  # 随机生成一个输入\\ntorch.onnx.export(model,x , \\'test.pth\\')  # 将 pytorch 模型以 onnx 格式导出并保存\\nnetron.start(\\'test.pth\\')  # 输出网络结构\\n\\nmodelData = \"./demo.pth\"  # 定义模型数据保存的路径\\nnetron.start(\\'test.pth\\')  # 输出网络结构'"
     },
     "execution_count": 2,
     "metadata": {},
     "output_type": "execute_result"
    }
   ],
   "source": [
    "from resnet_2 import resnet110\n",
    "import netron\n",
    "import torch\n",
    "from torch.utils import tensorboard\n",
    "model = resnet110(case=1).cuda()\n",
    "ts = tensorboard.SummaryWriter(log_dir=\"./log/model0\")\n",
    "\n",
    "ts.add_graph(model ,torch.randn(128, 3, 36, 36).cuda())\n",
    "'''torch.save(model.state_dict(), \"test.pth\")\n",
    "x = torch.randn(128, 3, 36, 36).cuda()  # 随机生成一个输入\n",
    "torch.onnx.export(model,x , 'test.pth')  # 将 pytorch 模型以 onnx 格式导出并保存\n",
    "netron.start('test.pth')  # 输出网络结构\n",
    "\n",
    "modelData = \"./demo.pth\"  # 定义模型数据保存的路径\n",
    "netron.start('test.pth')  # 输出网络结构'''"
   ],
   "metadata": {
    "collapsed": false,
    "pycharm": {
     "name": "#%%\n"
    }
   }
  },
  {
   "cell_type": "code",
   "execution_count": 2,
   "outputs": [
    {
     "ename": "ValueError",
     "evalue": "Case only support {0,1,2,3,4}",
     "output_type": "error",
     "traceback": [
      "\u001B[1;31m---------------------------------------------------------------------------\u001B[0m",
      "\u001B[1;31mValueError\u001B[0m                                Traceback (most recent call last)",
      "Cell \u001B[1;32mIn[2], line 3\u001B[0m\n\u001B[0;32m      1\u001B[0m case\u001B[38;5;241m=\u001B[39m\u001B[38;5;241m-\u001B[39m\u001B[38;5;241m3\u001B[39m\n\u001B[0;32m      2\u001B[0m \u001B[38;5;28;01mif\u001B[39;00m case \u001B[38;5;129;01mnot\u001B[39;00m \u001B[38;5;129;01min\u001B[39;00m {\u001B[38;5;241m0\u001B[39m, \u001B[38;5;241m1\u001B[39m, \u001B[38;5;241m2\u001B[39m, \u001B[38;5;241m3\u001B[39m, \u001B[38;5;241m4\u001B[39m}:\n\u001B[1;32m----> 3\u001B[0m     \u001B[38;5;28;01mraise\u001B[39;00m \u001B[38;5;167;01mValueError\u001B[39;00m(\u001B[38;5;124m'\u001B[39m\u001B[38;5;124mCase only support \u001B[39m\u001B[38;5;124m{\u001B[39m\u001B[38;5;124m0,1,2,3,4}\u001B[39m\u001B[38;5;124m'\u001B[39m)\n",
      "\u001B[1;31mValueError\u001B[0m: Case only support {0,1,2,3,4}"
     ]
    }
   ],
   "source": [
    "case=1\n",
    "if case not in {0, 1, 2, 3, 4}:\n",
    "    raise ValueError('Case only support {0,1,2,3,4}')"
   ],
   "metadata": {
    "collapsed": false,
    "pycharm": {
     "name": "#%%\n"
    }
   }
  }
 ],
 "metadata": {
  "kernelspec": {
   "display_name": "Python 3",
   "language": "python",
   "name": "python3"
  },
  "language_info": {
   "codemirror_mode": {
    "name": "ipython",
    "version": 2
   },
   "file_extension": ".py",
   "mimetype": "text/x-python",
   "name": "python",
   "nbconvert_exporter": "python",
   "pygments_lexer": "ipython2",
   "version": "2.7.6"
  }
 },
 "nbformat": 4,
 "nbformat_minor": 0
}